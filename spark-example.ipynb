{
 "cells": [
  {
   "cell_type": "code",
   "execution_count": null,
   "id": "7315596c-3adf-45e5-b560-fc40e98d6624",
   "metadata": {},
   "outputs": [],
   "source": [
    "!pip install install-jdk\n",
    "!pip install pyspark --user\n",
    "!pip install findspark --user"
   ]
  },
  {
   "cell_type": "code",
   "execution_count": null,
   "id": "729b18f2-67d7-453b-b503-d74196f13d55",
   "metadata": {},
   "outputs": [],
   "source": [
    "import jdk\n",
    "jdk.install('11')"
   ]
  },
  {
   "cell_type": "code",
   "execution_count": null,
   "id": "3605f051-b46b-4807-a565-33b8aad2f7b7",
   "metadata": {
    "tags": []
   },
   "outputs": [],
   "source": [
    "import pyspark\n",
    "import findspark\n",
    "from pyspark.sql import SparkSession\n",
    "import os\n",
    "os.environ[\"JAVA_HOME\"] = \"/home/jovyan/.jdk/jdk-11.0.18+10\"\n",
    "os.environ[\"PYSPARK_PYTHON\"] = \"/usr/bin/python3.9\"\n",
    "os.environ[\"PYSPARK_DRIVER_PYTHON\"] = \"/usr/bin/python3.9\"\n",
    "findspark.init()\n",
    "from pyspark import SparkContext, SparkConf\n",
    "conf = SparkConf().setAppName('sparktest').setMaster('k8s://https://kubernetes.default.svc:443')\n",
    "conf.set(\"spark.kubernetes.namespace\", \"kubeflow-user-example-com\")\n",
    "conf.set(\"spark.kubernetes.authenticate.driver.serviceAccountName\", \"default-editor\")\n",
    "\n",
    "conf.set(\"spark.kubernetes.container.image\", \"apache/spark-py\")\n",
    "conf.set(\"spark.kubernetes.executor.container.image\", \"apache/spark-py\")\n",
    "\n",
    "conf.set(\"spark.kubernetes.allocation.batch.size\", \"5\")\n",
    "conf.set(\"spark.kubernetes.executor.instances\", \"1\")\n",
    "conf.set(\"spark.driver.bindAddress\", \"0.0.0.0\")\n",
    "conf.set(\"spark.driver.host\", \"jupyter\")\n",
    "conf.set(\"spark.driver.port\", \"37371\")\n",
    "conf.set(\"spark.blockManager.port\", \"6060\")"
   ]
  },
  {
   "cell_type": "code",
   "execution_count": null,
   "id": "99758e7b-1018-44bf-a5aa-22363d5dbcfd",
   "metadata": {},
   "outputs": [],
   "source": [
    "spark = SparkSession.builder.config(conf=conf).getOrCreate()\n",
    "sc = spark.sparkContext"
   ]
  },
  {
   "cell_type": "code",
   "execution_count": null,
   "id": "27834411-c8a6-474a-a405-ef255db383d0",
   "metadata": {
    "tags": []
   },
   "outputs": [],
   "source": [
    "sc.parallelize([1,2,3,4,5]).count()"
   ]
  },
  {
   "cell_type": "code",
   "execution_count": null,
   "id": "9720cf45-0f99-4414-9706-f502ef783904",
   "metadata": {},
   "outputs": [],
   "source": []
  }
 ],
 "metadata": {
  "kernelspec": {
   "display_name": "Python 3 (ipykernel)",
   "language": "python",
   "name": "python3"
  },
  "language_info": {
   "codemirror_mode": {
    "name": "ipython",
    "version": 3
   },
   "file_extension": ".py",
   "mimetype": "text/x-python",
   "name": "python",
   "nbconvert_exporter": "python",
   "pygments_lexer": "ipython3",
   "version": "3.8.10"
  }
 },
 "nbformat": 4,
 "nbformat_minor": 5
}
