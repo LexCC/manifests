{
 "cells": [
  {
   "cell_type": "code",
   "execution_count": null,
   "id": "7315596c-3adf-45e5-b560-fc40e98d6624",
   "metadata": {},
   "outputs": [],
   "source": [
    "!pip install install-jdk\n",
    "!pip install pyspark --user\n",
    "!pip install findspark --user"
   ]
  },
  {
   "cell_type": "code",
   "execution_count": null,
   "id": "729b18f2-67d7-453b-b503-d74196f13d55",
   "metadata": {},
   "outputs": [],
   "source": [
    "import jdk\n",
    "jdk.install('11')"
   ]
  },
  {
   "cell_type": "code",
   "execution_count": null,
   "id": "3605f051-b46b-4807-a565-33b8aad2f7b7",
   "metadata": {
    "tags": []
   },
   "outputs": [],
   "source": [
    "import pyspark\n",
    "import findspark\n",
    "from pyspark.sql import SparkSession\n",
    "import os\n",
    "os.environ[\"JAVA_HOME\"] = \"/home/jovyan/.jdk/jdk-11.0.18+10\"\n",
    "os.environ[\"PYSPARK_PYTHON\"] = \"/usr/bin/python3.8\"\n",
    "os.environ[\"PYSPARK_DRIVER_PYTHON\"] = \"/usr/bin/python3.8\"\n",
    "findspark.init()\n",
    "from pyspark import SparkContext, SparkConf\n",
    "conf = SparkConf().setAppName('sparktest').setMaster('k8s://https://kubernetes.default.svc:443')\n",
    "conf.set(\"spark.kubernetes.namespace\", \"kubeflow-user-example-com\")\n",
    "conf.set(\"spark.kubernetes.authenticate.driver.serviceAccountName\", \"default-editor\")\n",
    "\n",
    "conf.set(\"spark.kubernetes.container.image\", \"lexcc/spark-py\")\n",
    "conf.set(\"spark.kubernetes.executor.container.image\", \"lexcc/spark-py\")\n",
    "conf.set(\"spark.kubernetes.container.image.pullPolicy\", \"Always\")\n",
    "\n",
    "conf.set(\"spark.kubernetes.allocation.batch.size\", \"5\")\n",
    "conf.set(\"spark.kubernetes.executor.instances\", \"1\")\n",
    "conf.set(\"spark.driver.bindAddress\", \"0.0.0.0\")\n",
    "conf.set(\"spark.driver.host\", \"jupyter\")\n",
    "conf.set(\"spark.driver.port\", \"37371\")\n",
    "conf.set(\"spark.blockManager.port\", \"6060\")\n",
    "\n",
    "conf.set('spark.jars.packages', 'org.apache.hadoop:hadoop-aws:3.3.2')"
   ]
  },
  {
   "cell_type": "code",
   "execution_count": null,
   "id": "99758e7b-1018-44bf-a5aa-22363d5dbcfd",
   "metadata": {},
   "outputs": [],
   "source": [
    "spark = SparkSession.builder.config(conf=conf).appName(\"Word Count\").getOrCreate()\n",
    "sc = spark.sparkContext"
   ]
  },
  {
   "cell_type": "code",
   "execution_count": null,
   "id": "27834411-c8a6-474a-a405-ef255db383d0",
   "metadata": {
    "tags": []
   },
   "outputs": [],
   "source": [
    "sc.parallelize([1,2,3,4,5]).count()"
   ]
  },
  {
   "cell_type": "code",
   "execution_count": null,
   "id": "9720cf45-0f99-4414-9706-f502ef783904",
   "metadata": {},
   "outputs": [],
   "source": [
    "import random\n",
    "def inside(p):\n",
    "    x, y = random.random(), random.random()\n",
    "    return x*x + y*y < 1\n",
    "\n",
    "count = sc.parallelize(range(0, 100)) \\\n",
    "             .filter(inside).count()\n",
    "print(\"Pi is roughly %f\" % (4.0 * count / 100))"
   ]
  },
  {
   "cell_type": "code",
   "execution_count": null,
   "id": "f1d82f2e-e06a-41b1-8deb-39cf188dc0b1",
   "metadata": {},
   "outputs": [],
   "source": [
    "sc._jsc.hadoopConfiguration().set(\"fs.s3a.access.key\", \"minio\")\n",
    "sc._jsc.hadoopConfiguration().set(\"fs.s3a.secret.key\", \"minio123\")\n",
    "sc._jsc.hadoopConfiguration().set(\"fs.s3a.endpoint\", \"minio-service.kubeflow:9000\")\n",
    "sc._jsc.hadoopConfiguration().set(\"fs.s3a.path.style.access\", \"true\")\n",
    "sc._jsc.hadoopConfiguration().set(\"fs.s3a.connection.ssl.enabled\", \"false\")\n",
    "sc._jsc.hadoopConfiguration().set(\"fs.s3a.impl\", \"org.apache.hadoop.fs.s3a.S3AFileSystem\")\n",
    "sc._jsc.hadoopConfiguration().set(\"fs.s3a.connection.ssl.enabled\", \"false\")"
   ]
  },
  {
   "cell_type": "code",
   "execution_count": null,
   "id": "05235fcd-d9bd-4661-baff-397fcfd9249a",
   "metadata": {},
   "outputs": [],
   "source": [
    "df = sc.textFile(\"s3a://mlpipeline/account-containers-list-response.json\")"
   ]
  },
  {
   "cell_type": "code",
   "execution_count": null,
   "id": "513cab5c-f57e-4569-b9dd-50ed16b7abd7",
   "metadata": {},
   "outputs": [],
   "source": [
    "df.collect()\n",
    "#df.write.format(\"csv\").option(\"header\", \"true\").save(\"s3a://datasets/result\")"
   ]
  },
  {
   "cell_type": "code",
   "execution_count": null,
   "id": "69ea5dc0-1a3a-4bb6-8bce-9e7a14a1be50",
   "metadata": {},
   "outputs": [],
   "source": []
  }
 ],
 "metadata": {
  "kernelspec": {
   "display_name": "Python 3 (ipykernel)",
   "language": "python",
   "name": "python3"
  },
  "language_info": {
   "codemirror_mode": {
    "name": "ipython",
    "version": 3
   },
   "file_extension": ".py",
   "mimetype": "text/x-python",
   "name": "python",
   "nbconvert_exporter": "python",
   "pygments_lexer": "ipython3",
   "version": "3.8.10"
  }
 },
 "nbformat": 4,
 "nbformat_minor": 5
}
